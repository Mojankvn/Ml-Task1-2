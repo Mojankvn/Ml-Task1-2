{
 "cells": [
  {
   "cell_type": "code",
   "execution_count": 2,
   "metadata": {},
   "outputs": [
    {
     "name": "stdout",
     "output_type": "stream",
     "text": [
      "Article text saved to 'scraped_articles/scraped_article.txt'.\n"
     ]
    }
   ],
   "source": [
    "# Step 1: Import libraries\n",
    "import os\n",
    "import requests\n",
    "from bs4 import BeautifulSoup\n",
    "\n",
    "def scrape_medium_article(url):\n",
    "    # Send a GET request to the URL\n",
    "    response = requests.get(url)\n",
    "    \n",
    "    # Check if the request was successful\n",
    "    if response.status_code == 200:\n",
    "        # Parse the HTML content of the page\n",
    "        soup = BeautifulSoup(response.content, 'html.parser')\n",
    "        \n",
    "        # Find all <p> tags containing the text of the article\n",
    "        paragraphs = soup.find_all('p')\n",
    "        \n",
    "        # Extract text from each paragraph and concatenate\n",
    "        article_text = '\\n'.join([p.get_text() for p in paragraphs])\n",
    "        \n",
    "        return article_text\n",
    "    else:\n",
    "        print(\"Failed to fetch the article. Status code:\", response.status_code)\n",
    "        return None\n",
    "\n",
    "def save_to_file(text, filename):\n",
    "    with open(filename, 'w', encoding='utf-8') as file:\n",
    "        file.write(text)\n",
    "    print(f\"Article text saved to '{filename}'.\")\n",
    "\n",
    "if __name__ == \"__main__\":\n",
    "    # Step 4: Run the python script with the given URL of the Medium article\n",
    "    url = input(\"Enter the URL of the Medium article: \")\n",
    "    article_text = scrape_medium_article(url)\n",
    "    \n",
    "    if article_text:\n",
    "        # Step 5: Create a new folder called \"scraped_articles\" in the local machine\n",
    "        folder_name = \"scraped_articles\"\n",
    "        if not os.path.exists(folder_name):\n",
    "            os.makedirs(folder_name)\n",
    "        \n",
    "        # Step 6: Save the scraped text to a .txt file in the \"scraped_articles\" folder\n",
    "        filename = os.path.join(folder_name, \"scraped_article.txt\")\n",
    "        save_to_file(article_text, filename)\n"
   ]
  },
  {
   "cell_type": "code",
   "execution_count": null,
   "metadata": {},
   "outputs": [],
   "source": []
  }
 ],
 "metadata": {
  "kernelspec": {
   "display_name": "ml1-task1",
   "language": "python",
   "name": "python3"
  },
  "language_info": {
   "codemirror_mode": {
    "name": "ipython",
    "version": 3
   },
   "file_extension": ".py",
   "mimetype": "text/x-python",
   "name": "python",
   "nbconvert_exporter": "python",
   "pygments_lexer": "ipython3",
   "version": "3.10.14"
  }
 },
 "nbformat": 4,
 "nbformat_minor": 2
}
